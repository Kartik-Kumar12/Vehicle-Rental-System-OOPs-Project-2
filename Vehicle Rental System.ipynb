{
 "cells": [
  {
   "cell_type": "code",
   "execution_count": 1,
   "metadata": {},
   "outputs": [],
   "source": [
    "from datetime import datetime\n",
    "import pandas as pd\n",
    "from abc import ABC,abstractmethod\n",
    "from collections import deque"
   ]
  },
  {
   "cell_type": "code",
   "execution_count": 2,
   "metadata": {},
   "outputs": [],
   "source": [
    "class Vehicle(ABC):\n",
    "    \"\"\"\n",
    "    An abstract class to force its subclass to implement abstract attribute and abstract method\n",
    "    \"\"\"\n",
    "    \n",
    "    # ABSTRACT ATTRIBUTE\n",
    "    @property\n",
    "    @abstractmethod\n",
    "    def vehicle_type(self) -> str:\n",
    "          raise NotImplementedError\n",
    "         \n",
    "    # ABSTRACT METHOD\n",
    "    @abstractmethod\n",
    "    def __str__(self) -> str:\n",
    "          raise NotImplementedError\n",
    "     \n",
    "      \n",
    "    "
   ]
  },
  {
   "cell_type": "code",
   "execution_count": 3,
   "metadata": {},
   "outputs": [],
   "source": [
    "Car_Models = {\"Maruti Alto\":1500,\"Maruti Swift\":2000,\"Hyundai Creta\":2500,\"Mahindra Thar\":3000,\"Toyota Fortuner\":4000}\n",
    "Bike_Models = {\"Suzuki Access 125\":300,\"Honda Glammer\":500,\"Royal Enfield Bullet\":1000}"
   ]
  },
  {
   "cell_type": "code",
   "execution_count": 4,
   "metadata": {},
   "outputs": [],
   "source": [
    "class Car(Vehicle):\n",
    "      \"\"\"\n",
    "      Car class inheriting abstract class Vehicle\n",
    "      \"\"\"\n",
    "      vehicle_type = \"Car\"\n",
    "      def __init__(self,number,model):\n",
    "          self.vehicle_number = number\n",
    "          self.model = model\n",
    "          self.rent_price = Car_Models[model]\n",
    "      def __str__(self):\n",
    "          return f'Type : {Car.vehicle_type}\\tId : {self.vehicle_number}\\nModel : {self.model}\\tRent_Price : {self.rent_price}'\n",
    "      \n",
    "      "
   ]
  },
  {
   "cell_type": "code",
   "execution_count": 5,
   "metadata": {},
   "outputs": [],
   "source": [
    "class Bike(Vehicle):\n",
    "      \"\"\"\n",
    "      Bike class inheriting abstract class Vehicle\n",
    "      \"\"\"\n",
    "      vehicle_type = \"Bike\"\n",
    "      def __init__(self,number,model):\n",
    "          self.vehicle_number = number\n",
    "          self.model = model\n",
    "          self.rent_price = Bike_Models[model]\n",
    "      def __str__(self):\n",
    "        return f'Type : {Bike.vehicle_type}\\tId : {self.vehicle_number}\\nModel : {self.model}\\tRent_Price : {self.rent_price}'"
   ]
  },
  {
   "cell_type": "code",
   "execution_count": null,
   "metadata": {},
   "outputs": [],
   "source": []
  },
  {
   "cell_type": "code",
   "execution_count": 28,
   "metadata": {},
   "outputs": [],
   "source": [
    "class Inventory: \n",
    "      \"\"\"\n",
    "      Inventory contains list of bikes and cars\n",
    "      \"\"\"\n",
    "      bikes =  set()\n",
    "      cars  =  set()\n",
    "    \n",
    "      def add_item(self,item):\n",
    "          \"\"\"\n",
    "          Add vehicle item in inventory\n",
    "          \"\"\"\n",
    "          if item.vehicle_type == \"Bike\":\n",
    "             Inventory.bikes.add(item)\n",
    "          else:\n",
    "             Inventory.cars.add(item)\n",
    "          \n",
    "      def del_item(self,item):\n",
    "          \"\"\"\n",
    "          Remove vehicle item from inventory\n",
    "          \"\"\"\n",
    "          if item.vehicle_type == \"Bike\":\n",
    "             Inventory.bikes.remove(item)\n",
    "          else:\n",
    "             Inventory.cars.remove(item)\n",
    "          \n",
    "          \n",
    "      def rent(self,customer,num_of_bikes=0,num_of_cars=0):\n",
    "          \"\"\"\n",
    "          Rent the vehicles from inventory as requested\n",
    "          \"\"\"\n",
    "          total_bikes = len(Inventory.bikes)\n",
    "          total_cars  = len(Inventory.cars)\n",
    "          if   total_bikes <= 0 and total_cars <= 0:\n",
    "               return None\n",
    "          elif num_of_bikes > total_bikes:\n",
    "               print(\"Sorry! We have currently {} bikes available to rent.\".format(total_bikes))\n",
    "               return None   \n",
    "          elif num_of_cars > total_cars:\n",
    "               print(\"Sorry! We have currently {} cars available to rent.\".format(total_cars))\n",
    "               return None   \n",
    "          else :\n",
    "               customer.rentalTime = datetime.now()\n",
    "               while num_of_bikes > 0 :\n",
    "                     for bike in Inventory.bikes.copy():\n",
    "                         num_of_bikes -= 1\n",
    "                         self.del_item(bike)\n",
    "                         customer.vehicles.append(bike)\n",
    "               while num_of_cars > 0:\n",
    "                     for car in Inventory.cars.copy():\n",
    "                         num_of_cars -= 1\n",
    "                         self.del_item(car)\n",
    "                         customer.vehicles.append(car)\n",
    "                            \n",
    "      def generate_bill(self,customer):\n",
    "         \"\"\"\n",
    "         Generates the bill of customer and display it\n",
    "         \"\"\"\n",
    "         bill_amt = 0\n",
    "         for vehicle in customer.vehicles:\n",
    "#              display\n",
    "             bill_amt += vehicle.rent_price\n",
    "         return bill_amt"
   ]
  },
  {
   "cell_type": "code",
   "execution_count": 29,
   "metadata": {},
   "outputs": [],
   "source": [
    "shop = Inventory()"
   ]
  },
  {
   "cell_type": "code",
   "execution_count": 30,
   "metadata": {},
   "outputs": [],
   "source": [
    "for model in Car_Models:\n",
    "    for i in range(5):\n",
    "        shop.add_item(Car(\"C\"+str(i)+model[0].upper()+model[-1].upper(),model))\n",
    "        \n",
    "for model in Bike_Models:\n",
    "    for i in range(5):\n",
    "        shop.add_item(Bike(\"B\"+str(i)+model[0].upper()+model[-1].upper(),model))"
   ]
  },
  {
   "cell_type": "code",
   "execution_count": 31,
   "metadata": {},
   "outputs": [
    {
     "name": "stdout",
     "output_type": "stream",
     "text": [
      "Type : Car\tId : C4MO\n",
      "Model : Maruti Alto\tRent_Price : 1500\n",
      "\n",
      "Type : Car\tId : C4MR\n",
      "Model : Mahindra Thar\tRent_Price : 3000\n",
      "\n",
      "Type : Car\tId : C0TR\n",
      "Model : Toyota Fortuner\tRent_Price : 4000\n",
      "\n",
      "Type : Car\tId : C3HA\n",
      "Model : Hyundai Creta\tRent_Price : 2500\n",
      "\n",
      "Type : Car\tId : C4TR\n",
      "Model : Toyota Fortuner\tRent_Price : 4000\n",
      "\n",
      "Type : Car\tId : C3MT\n",
      "Model : Maruti Swift\tRent_Price : 2000\n",
      "\n",
      "Type : Car\tId : C3TR\n",
      "Model : Toyota Fortuner\tRent_Price : 4000\n",
      "\n",
      "Type : Car\tId : C4MT\n",
      "Model : Maruti Swift\tRent_Price : 2000\n",
      "\n",
      "Type : Car\tId : C1MO\n",
      "Model : Maruti Alto\tRent_Price : 1500\n",
      "\n",
      "Type : Car\tId : C0MT\n",
      "Model : Maruti Swift\tRent_Price : 2000\n",
      "\n",
      "Type : Car\tId : C3MR\n",
      "Model : Mahindra Thar\tRent_Price : 3000\n",
      "\n",
      "Type : Car\tId : C3MO\n",
      "Model : Maruti Alto\tRent_Price : 1500\n",
      "\n",
      "Type : Car\tId : C2TR\n",
      "Model : Toyota Fortuner\tRent_Price : 4000\n",
      "\n",
      "Type : Car\tId : C2MT\n",
      "Model : Maruti Swift\tRent_Price : 2000\n",
      "\n",
      "Type : Car\tId : C0MO\n",
      "Model : Maruti Alto\tRent_Price : 1500\n",
      "\n",
      "Type : Car\tId : C0HA\n",
      "Model : Hyundai Creta\tRent_Price : 2500\n",
      "\n",
      "Type : Car\tId : C0MR\n",
      "Model : Mahindra Thar\tRent_Price : 3000\n",
      "\n",
      "Type : Car\tId : C1MT\n",
      "Model : Maruti Swift\tRent_Price : 2000\n",
      "\n",
      "Type : Car\tId : C4HA\n",
      "Model : Hyundai Creta\tRent_Price : 2500\n",
      "\n",
      "Type : Car\tId : C1TR\n",
      "Model : Toyota Fortuner\tRent_Price : 4000\n",
      "\n",
      "Type : Car\tId : C2HA\n",
      "Model : Hyundai Creta\tRent_Price : 2500\n",
      "\n",
      "Type : Car\tId : C2MO\n",
      "Model : Maruti Alto\tRent_Price : 1500\n",
      "\n",
      "Type : Car\tId : C2MR\n",
      "Model : Mahindra Thar\tRent_Price : 3000\n",
      "\n",
      "Type : Car\tId : C1MR\n",
      "Model : Mahindra Thar\tRent_Price : 3000\n",
      "\n",
      "Type : Car\tId : C1HA\n",
      "Model : Hyundai Creta\tRent_Price : 2500\n",
      "\n",
      "Type : Bike\tId : B4S5\n",
      "Model : Suzuki Access 125\tRent_Price : 300\n",
      "\n",
      "Type : Bike\tId : B1HR\n",
      "Model : Honda Glammer\tRent_Price : 500\n",
      "\n",
      "Type : Bike\tId : B3S5\n",
      "Model : Suzuki Access 125\tRent_Price : 300\n",
      "\n",
      "Type : Bike\tId : B1RT\n",
      "Model : Royal Enfield Bullet\tRent_Price : 1000\n",
      "\n",
      "Type : Bike\tId : B4HR\n",
      "Model : Honda Glammer\tRent_Price : 500\n",
      "\n",
      "Type : Bike\tId : B1S5\n",
      "Model : Suzuki Access 125\tRent_Price : 300\n",
      "\n",
      "Type : Bike\tId : B0S5\n",
      "Model : Suzuki Access 125\tRent_Price : 300\n",
      "\n",
      "Type : Bike\tId : B0RT\n",
      "Model : Royal Enfield Bullet\tRent_Price : 1000\n",
      "\n",
      "Type : Bike\tId : B4RT\n",
      "Model : Royal Enfield Bullet\tRent_Price : 1000\n",
      "\n",
      "Type : Bike\tId : B3RT\n",
      "Model : Royal Enfield Bullet\tRent_Price : 1000\n",
      "\n",
      "Type : Bike\tId : B3HR\n",
      "Model : Honda Glammer\tRent_Price : 500\n",
      "\n",
      "Type : Bike\tId : B2S5\n",
      "Model : Suzuki Access 125\tRent_Price : 300\n",
      "\n",
      "Type : Bike\tId : B0HR\n",
      "Model : Honda Glammer\tRent_Price : 500\n",
      "\n",
      "Type : Bike\tId : B2HR\n",
      "Model : Honda Glammer\tRent_Price : 500\n",
      "\n",
      "Type : Bike\tId : B2RT\n",
      "Model : Royal Enfield Bullet\tRent_Price : 1000\n",
      "\n"
     ]
    }
   ],
   "source": [
    "#TESTING PURPOSE\n",
    "for car in shop.cars:\n",
    "    print(car)\n",
    "    print()\n",
    "    \n",
    "for bike in shop.bikes:\n",
    "    print(bike)\n",
    "    print()"
   ]
  },
  {
   "cell_type": "code",
   "execution_count": 32,
   "metadata": {},
   "outputs": [],
   "source": [
    "class Customer:\n",
    "    def __init__(self,name,aadhar_number):\n",
    "        \"\"\"\n",
    "        Our constructor method which instantiates various customer objects.\n",
    "        \"\"\"\n",
    "        self.name = name\n",
    "        self.aadhar_number = aadhar_number\n",
    "        self.vehicles = deque()\n",
    "        self.rentalTime = 0\n",
    "        self.bill = 0\n",
    "    \n",
    "    def request_vehicle(self,shop):\n",
    "        \"\"\"\n",
    "        Takes a request from the customer for the vehicles to be rented.\n",
    "        \"\"\"\n",
    "        while True:\n",
    "            num_of_bikes = input(\"Enter number of bikes to be rented \")\n",
    "            num_of_cars  = input(\"Enter number of cars to be rented  \")\n",
    "            try:\n",
    "                num_of_bikes,num_of_cars  = int(num_of_bikes),int(num_of_cars)\n",
    "            except TypeError:\n",
    "                print(\"Please enter a integer value \")\n",
    "                continue\n",
    "            except ValueError:\n",
    "                print(\"Please enter a positive value \")\n",
    "                continue\n",
    "                \n",
    "            if num_of_bikes < 1 or num_of_cars < 1:\n",
    "               print(\"Invalid input , number of vehicles should be greater than zero\")\n",
    "            else:\n",
    "                break\n",
    "        # Rent the vehicles requested        \n",
    "        shop.rent(self,num_of_bikes,num_of_cars)\n",
    "            \n",
    "        \n",
    "     \n",
    "     \n",
    "    def return_vehicles(self,shop):\n",
    "        \"\"\"\n",
    "        Allows customers to return their vehicles to the rental shop after generating the bill.\n",
    "        \"\"\"\n",
    "        self.bill = shop.generate_bill(self)\n",
    "        for vehicle in self.vehicles:\n",
    "            if vehicle.vehicle_type == \"Bike\":\n",
    "               shop.bikes.append(vehicle)\n",
    "            else:\n",
    "               shop.cars.append(vehicle)\n",
    "            \n",
    "            self.vehicles.remove(vehicle)\n",
    "            \n",
    "    def pay_bill(self):\n",
    "        self.bill = 0\n",
    "        \n",
    "    def __str__(self):\n",
    "        return f'Name : {self.name}\\tAadhar Number: {self.aadhar_number}'\n",
    "    "
   ]
  },
  {
   "cell_type": "code",
   "execution_count": 33,
   "metadata": {},
   "outputs": [],
   "source": [
    "c = Customer(name = \"John\",aadhar_number = \"q927r90qw\")"
   ]
  },
  {
   "cell_type": "code",
   "execution_count": 34,
   "metadata": {},
   "outputs": [
    {
     "name": "stdout",
     "output_type": "stream",
     "text": [
      "Name : John\tAadhar Number: q927r90qw\n"
     ]
    }
   ],
   "source": [
    "print(c)"
   ]
  },
  {
   "cell_type": "code",
   "execution_count": 35,
   "metadata": {},
   "outputs": [
    {
     "name": "stdout",
     "output_type": "stream",
     "text": [
      "Enter number of bikes to be rented 2\n",
      "Enter number of cars to be rented  2\n"
     ]
    }
   ],
   "source": [
    "c.request_vehicle(shop)"
   ]
  },
  {
   "cell_type": "code",
   "execution_count": 36,
   "metadata": {},
   "outputs": [
    {
     "name": "stdout",
     "output_type": "stream",
     "text": [
      "0\n",
      "0\n"
     ]
    }
   ],
   "source": [
    "print(len(shop.bikes))\n",
    "print(len(shop.cars))"
   ]
  },
  {
   "cell_type": "code",
   "execution_count": 37,
   "metadata": {},
   "outputs": [
    {
     "name": "stdout",
     "output_type": "stream",
     "text": [
      "<class 'set'>\n"
     ]
    }
   ],
   "source": [
    "print(type(shop.bikes))"
   ]
  },
  {
   "cell_type": "code",
   "execution_count": null,
   "metadata": {},
   "outputs": [],
   "source": []
  },
  {
   "cell_type": "code",
   "execution_count": null,
   "metadata": {},
   "outputs": [],
   "source": []
  }
 ],
 "metadata": {
  "kernelspec": {
   "display_name": "Python 3",
   "language": "python",
   "name": "python3"
  },
  "language_info": {
   "codemirror_mode": {
    "name": "ipython",
    "version": 3
   },
   "file_extension": ".py",
   "mimetype": "text/x-python",
   "name": "python",
   "nbconvert_exporter": "python",
   "pygments_lexer": "ipython3",
   "version": "3.8.3"
  }
 },
 "nbformat": 4,
 "nbformat_minor": 4
}
